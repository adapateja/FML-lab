{
  "nbformat": 4,
  "nbformat_minor": 0,
  "metadata": {
    "colab": {
      "provenance": [],
      "authorship_tag": "ABX9TyPeSc0ZVL373cOs6WXgvdFS",
      "include_colab_link": true
    },
    "kernelspec": {
      "name": "python3",
      "display_name": "Python 3"
    },
    "language_info": {
      "name": "python"
    }
  },
  "cells": [
    {
      "cell_type": "markdown",
      "metadata": {
        "id": "view-in-github",
        "colab_type": "text"
      },
      "source": [
        "<a href=\"https://colab.research.google.com/github/adapateja/FML-lab/blob/main/14_)Percepton.ipynb\" target=\"_parent\"><img src=\"https://colab.research.google.com/assets/colab-badge.svg\" alt=\"Open In Colab\"/></a>"
      ]
    },
    {
      "cell_type": "code",
      "execution_count": 1,
      "metadata": {
        "id": "Z07CR4iLYhY0"
      },
      "outputs": [],
      "source": [
        "#Import the necessary libraries and load the breast cancer dataset\n",
        "from sklearn.datasets import load_breast_cancer\n",
        "from sklearn.model_selection import train_test_split\n",
        "import numpy as np\n",
        "import matplotlib.pyplot as plt"
      ]
    },
    {
      "cell_type": "code",
      "source": [
        "# Load the breast cancer dataset\n",
        "data = load_breast_cancer()\n",
        "X = data.data\n",
        "y = data.target"
      ],
      "metadata": {
        "id": "gec0fpXFbhNb"
      },
      "execution_count": 2,
      "outputs": []
    },
    {
      "cell_type": "code",
      "source": [
        "# Split the dataset into training and testing data\n",
        "X_train, X_test, y_train, y_test = train_test_split(X, y, test_size=0.2, random_state=42)\n"
      ],
      "metadata": {
        "id": "iHU4wuZ0biH3"
      },
      "execution_count": 3,
      "outputs": []
    },
    {
      "cell_type": "code",
      "source": [
        "# Add a bias term to the feature matrix\n",
        "X_train = np.hstack((np.ones((X_train.shape[0], 1)), X_train))\n",
        "X_test = np.hstack((np.ones((X_test.shape[0], 1)), X_test))\n",
        "\n",
        "# Normalize the features\n",
        "X_train = (X_train - np.mean(X_train, axis=0)) / np.std(X_train, axis=0)\n",
        "X_test = (X_test - np.mean(X_train, axis=0)) / np.std(X_train, axis=0)\n"
      ],
      "metadata": {
        "colab": {
          "base_uri": "https://localhost:8080/"
        },
        "id": "QdfewgOablF2",
        "outputId": "b570cab7-4bb2-4413-f46d-2a5fb932a3a6"
      },
      "execution_count": 4,
      "outputs": [
        {
          "output_type": "stream",
          "name": "stderr",
          "text": [
            "<ipython-input-4-6b2158421361>:6: RuntimeWarning: invalid value encountered in true_divide\n",
            "  X_train = (X_train - np.mean(X_train, axis=0)) / np.std(X_train, axis=0)\n"
          ]
        }
      ]
    },
    {
      "cell_type": "code",
      "source": [
        "class Perceptron:\n",
        "    def __init__(self, learning_rate=0.01, max_epochs=100):\n",
        "        self.learning_rate = learning_rate\n",
        "        self.max_epochs = max_epochs\n",
        "\n",
        "    def fit(self, X, y):\n",
        "        self.weights = np.zeros(X.shape[1])\n",
        "\n",
        "        for _ in range(self.max_epochs):\n",
        "            for i in range(X.shape[0]):\n",
        "                prediction = self.predict_sample(X[i])\n",
        "                if prediction != y[i]:\n",
        "                    self.weights += self.learning_rate * (y[i] - prediction) * X[i]\n",
        "\n",
        "    def predict_sample(self, x):\n",
        "        activation = np.dot(x, self.weights)\n",
        "        return 1 if activation >= 0 else 0\n",
        "\n",
        "    def predict(self, X):\n",
        "        return np.array([self.predict_sample(x) for x in X])\n"
      ],
      "metadata": {
        "id": "8-DZftSRbnry"
      },
      "execution_count": 5,
      "outputs": []
    },
    {
      "cell_type": "code",
      "source": [
        "# Create an instance of the Perceptron classifier\n",
        "classifier = Perceptron()\n",
        "\n",
        "# Train the classifier using the training data\n",
        "classifier.fit(X_train, y_train)\n",
        "\n",
        "# Make predictions on the test data\n",
        "y_pred = classifier.predict(X_test)\n"
      ],
      "metadata": {
        "id": "QCQ0gLC1bqvJ"
      },
      "execution_count": 6,
      "outputs": []
    },
    {
      "cell_type": "code",
      "source": [
        "# Compute the accuracy of the classifier\n",
        "accuracy = np.mean(y_pred == y_test)\n",
        "print(\"Accuracy:\", accuracy*100)\n"
      ],
      "metadata": {
        "colab": {
          "base_uri": "https://localhost:8080/"
        },
        "id": "U3OXf7pobt-h",
        "outputId": "66f7fbff-fbd6-4f69-9ea1-4df7af1de7b2"
      },
      "execution_count": 8,
      "outputs": [
        {
          "output_type": "stream",
          "name": "stdout",
          "text": [
            "Accuracy: 37.719298245614034\n"
          ]
        }
      ]
    }
  ]
}