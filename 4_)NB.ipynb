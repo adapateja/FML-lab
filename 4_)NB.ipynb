{
  "nbformat": 4,
  "nbformat_minor": 0,
  "metadata": {
    "colab": {
      "provenance": [],
      "authorship_tag": "ABX9TyMimD4IdgHs6eO+dL4IZY0d",
      "include_colab_link": true
    },
    "kernelspec": {
      "name": "python3",
      "display_name": "Python 3"
    },
    "language_info": {
      "name": "python"
    }
  },
  "cells": [
    {
      "cell_type": "markdown",
      "metadata": {
        "id": "view-in-github",
        "colab_type": "text"
      },
      "source": [
        "<a href=\"https://colab.research.google.com/github/adapateja/FML-lab/blob/main/4_)NB.ipynb\" target=\"_parent\"><img src=\"https://colab.research.google.com/assets/colab-badge.svg\" alt=\"Open In Colab\"/></a>"
      ]
    },
    {
      "cell_type": "code",
      "execution_count": 3,
      "metadata": {
        "colab": {
          "base_uri": "https://localhost:8080/"
        },
        "id": "Ofpm7obOJAhN",
        "outputId": "a15b0ae8-9d36-4417-98d1-d161d1afbc37"
      },
      "outputs": [
        {
          "output_type": "stream",
          "name": "stdout",
          "text": [
            "Accuracy-test: 100.0\n",
            "Accuracy-train: 95.0\n"
          ]
        }
      ],
      "source": [
        "from sklearn.datasets import load_iris\n",
        "from sklearn.model_selection import train_test_split\n",
        "from sklearn.naive_bayes import GaussianNB\n",
        "from sklearn.metrics import accuracy_score\n",
        "\n",
        "# Load the iris dataset\n",
        "iris = load_iris()\n",
        "\n",
        "# Split the dataset into training and testing data\n",
        "X_train, X_test, y_train, y_test = train_test_split(iris.data, iris.target, test_size=0.2, random_state=42)\n",
        "\n",
        "# Create a Gaussian Naive Bayes classifier\n",
        "classifier = GaussianNB()\n",
        "\n",
        "# Train the classifier using the training data\n",
        "classifier.fit(X_train, y_train)\n",
        "\n",
        "# Predict the target classes for the test data and train data\n",
        "y_pred = classifier.predict(X_test)\n",
        "y_pred_train=classifier.predict(X_train)\n",
        "# Compute the accuracy of the classifier\n",
        "accuracy = accuracy_score(y_test, y_pred)\n",
        "print(\"Accuracy-test:\", accuracy*100)\n",
        "accuracy = accuracy_score(y_train, y_pred_train)\n",
        "print(\"Accuracy-train:\", accuracy*100)\n"
      ]
    }
  ]
}