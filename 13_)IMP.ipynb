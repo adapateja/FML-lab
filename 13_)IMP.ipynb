{
  "nbformat": 4,
  "nbformat_minor": 0,
  "metadata": {
    "colab": {
      "provenance": [],
      "authorship_tag": "ABX9TyPUAA1/XKSx+bxrANRDB+K/",
      "include_colab_link": true
    },
    "kernelspec": {
      "name": "python3",
      "display_name": "Python 3"
    },
    "language_info": {
      "name": "python"
    }
  },
  "cells": [
    {
      "cell_type": "markdown",
      "metadata": {
        "id": "view-in-github",
        "colab_type": "text"
      },
      "source": [
        "<a href=\"https://colab.research.google.com/github/adapateja/FML-lab/blob/main/13_)IMP.ipynb\" target=\"_parent\"><img src=\"https://colab.research.google.com/assets/colab-badge.svg\" alt=\"Open In Colab\"/></a>"
      ]
    },
    {
      "cell_type": "markdown",
      "source": [
        "#**In these simplified implementations, the activation functions are applied to individual scalar inputs, and the outputs are calculated based on the respective formulas. Keep in mind that these implementations are not optimized for handling large datasets efficiently, as they are intended to provide a basic understanding of the activation functions.**\n",
        "\n",
        "\n"
      ],
      "metadata": {
        "id": "LABqUh9ydxLu"
      }
    },
    {
      "cell_type": "code",
      "execution_count": 1,
      "metadata": {
        "colab": {
          "base_uri": "https://localhost:8080/"
        },
        "id": "tifuIs4mcyE0",
        "outputId": "be27d8ff-053d-46a4-e4d9-5f4745458f28"
      },
      "outputs": [
        {
          "output_type": "stream",
          "name": "stdout",
          "text": [
            "[0.26894142 0.5        0.73105858]\n"
          ]
        }
      ],
      "source": [
        "#a. Sigmoid Activation Function:\n",
        "\n",
        "import numpy as np\n",
        "\n",
        "def sigmoid(x):\n",
        "    return 1 / (1 + np.exp(-x))\n",
        "\n",
        "# Example usage\n",
        "x = np.array([-1, 0, 1])\n",
        "print(sigmoid(x))\n"
      ]
    },
    {
      "cell_type": "code",
      "source": [
        "#b. Tanh Activation Function:\n",
        "\n",
        "import numpy as np\n",
        "\n",
        "def tanh(x):\n",
        "    return np.tanh(x)\n",
        "\n",
        "# Example usage\n",
        "x = np.array([-1, 0, 1])\n",
        "print(tanh(x))\n"
      ],
      "metadata": {
        "colab": {
          "base_uri": "https://localhost:8080/"
        },
        "id": "b2LDEdtSdM_W",
        "outputId": "a249a850-db3c-4efe-88ec-fb602e825523"
      },
      "execution_count": 3,
      "outputs": [
        {
          "output_type": "stream",
          "name": "stdout",
          "text": [
            "[-0.76159416  0.          0.76159416]\n"
          ]
        }
      ]
    },
    {
      "cell_type": "code",
      "source": [
        "#c. ReLU (Rectified Linear Unit) Activation Function:\n",
        "\n",
        "import numpy as np\n",
        "\n",
        "def relu(x):\n",
        "    return np.maximum(0, x)\n",
        "\n",
        "# Example usage\n",
        "x = np.array([-1, 0, 1])\n",
        "print(relu(x))\n"
      ],
      "metadata": {
        "colab": {
          "base_uri": "https://localhost:8080/"
        },
        "id": "I5KO0aRcdQ__",
        "outputId": "c2bb17d9-b510-4bdf-9d6a-17a3406bd36b"
      },
      "execution_count": 2,
      "outputs": [
        {
          "output_type": "stream",
          "name": "stdout",
          "text": [
            "[0 0 1]\n"
          ]
        }
      ]
    },
    {
      "cell_type": "code",
      "source": [
        "#d. Softmax Activation Function (for multi-class classification):\n",
        "\n",
        "import numpy as np\n",
        "\n",
        "def softmax(x):\n",
        "    e_x = np.exp(x - np.max(x, axis=1, keepdims=True))\n",
        "    return e_x / np.sum(e_x, axis=1, keepdims=True)\n",
        "\n",
        "# Example usage\n",
        "x = np.array([[1, 2, 3], [4, 5, 6], [7, 8, 9]])\n",
        "print(softmax(x))\n"
      ],
      "metadata": {
        "colab": {
          "base_uri": "https://localhost:8080/"
        },
        "id": "9aXZaoz_dZEf",
        "outputId": "802f43b1-3364-4975-b872-f90d8d2dec68"
      },
      "execution_count": 4,
      "outputs": [
        {
          "output_type": "stream",
          "name": "stdout",
          "text": [
            "[[0.09003057 0.24472847 0.66524096]\n",
            " [0.09003057 0.24472847 0.66524096]\n",
            " [0.09003057 0.24472847 0.66524096]]\n"
          ]
        }
      ]
    }
  ]
}